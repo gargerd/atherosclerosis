{
 "cells": [
  {
   "cell_type": "code",
   "execution_count": 1,
   "metadata": {},
   "outputs": [
    {
     "name": "stderr",
     "output_type": "stream",
     "text": [
      "/data/gpfs/projects/punim2121/anaconda3/envs/xenium/lib/python3.10/site-packages/tqdm/auto.py:21: TqdmWarning: IProgress not found. Please update jupyter and ipywidgets. See https://ipywidgets.readthedocs.io/en/stable/user_install.html\n",
      "  from .autonotebook import tqdm as notebook_tqdm\n"
     ]
    }
   ],
   "source": [
    "import numpy as np\n",
    "import matplotlib.pyplot as plt\n",
    "#import squidpy as sq\n",
    "#import scanpy as sc\n",
    "import pandas as pd\n",
    "import os\n",
    "from PIL import Image\n",
    "import imagecodecs\n",
    "import tifffile as tff\n",
    "from pyometiff import OMETIFFReader\n",
    "#import seaborn as sns\n",
    "#import geopandas as gpd\n",
    "from shapely.geometry import Polygon\n",
    "\n",
    "#from sklearn.mixture import GaussianMixture\n",
    "#from scipy.stats import norm\n",
    "\n",
    "import pickle\n",
    "import ssam\n",
    "import time"
   ]
  },
  {
   "cell_type": "code",
   "execution_count": 2,
   "metadata": {},
   "outputs": [
    {
     "data": {
      "text/plain": [
       "\"\\ndef standardise_transcript_locations(transcripts,metadata):\\n    ## Extract pixel width and height\\n    pixel_width=np.float64(metadata['PhysicalSizeX'])\\n    pixel_height=np.float64(metadata['PhysicalSizeY'])\\n\\n    std_transcripts=transcripts.copy()\\n\\n    for coord_col in ['x_location','y_location','z_location']:\\n        std_transcripts[coord_col]=(std_transcripts[coord_col]-std_transcripts[coord_col].min())/pixel_width\\n    \\n    return std_transcripts\\n\""
      ]
     },
     "execution_count": 2,
     "metadata": {},
     "output_type": "execute_result"
    }
   ],
   "source": [
    "def read_transcript_files(data_dir,sample_dir):\n",
    "    #nucleus_bound=pd.read_csv(os.path.join(data_dir,sample_dir,'nucleus_boundaries.csv.gz'))\n",
    "    #cell_bound=pd.read_csv(os.path.join(data_dir,sample_dir,'cell_boundaries.csv.gz'))\n",
    "    transcripts=pd.read_csv(os.path.join(data_dir,sample_dir,'transcripts.csv.gz'))    \n",
    "    cells=pd.read_csv(os.path.join(data_dir,sample_dir,'cells.csv.gz'))\n",
    "\n",
    "    return transcripts,cells\n",
    "\n",
    "\n",
    "def read_ome_tiff(slide_type,data_dir,sample_dir):\n",
    "    if slide_type=='focus':\n",
    "        fn=os.path.join(data_dir,sample_dir,'morphology_focus.ome.tif')\n",
    "\n",
    "    if slide_type=='mip':    \n",
    "        fn=os.path.join(data_dir,sample_dir,'morphology_mip.ome.tif')\n",
    "\n",
    "    if slide_type=='z_stack': \n",
    "        fn=os.path.join(data_dir,sample_dir,'morphology.ome.tif')\n",
    "        \n",
    "    reader = OMETIFFReader(fpath=fn)\n",
    "    img_array,metadata,xml_metadata=reader.read()\n",
    "\n",
    "    return img_array,metadata,xml_metadata\n",
    "\n",
    "\n",
    "def calculate_ssam_requirements(transcripts):\n",
    "    ## Calculate widht and height of the slide\n",
    "    xmin,xmax=transcripts['x_location'].min(), transcripts['x_location'].max()\n",
    "    ymin,ymax=transcripts['y_location'].min(), transcripts['y_location'].max()\n",
    "    zmin,zmax=transcripts['z_location'].min(), transcripts['z_location'].max()\n",
    "\n",
    "    width = int(xmax-xmin)\n",
    "    height = int(ymax-ymin)\n",
    "    depth = int(zmax-zmin)\n",
    "\n",
    "    ## Extract list of genes\n",
    "    grouped=transcripts.groupby('feature_name').agg(list)\n",
    "    genes=list(grouped.index)\n",
    "\n",
    "    ## Extract all coordinates of transcripts for each gene\n",
    "    coord_list=[]\n",
    "    for gene in grouped.index:\n",
    "        coord_list.append(transcripts[transcripts['feature_name']==gene][['x_location','y_location']].values)\n",
    "\n",
    "    return genes,coord_list,width,height\n",
    "    \n",
    "\n",
    "def create_temp_output_dir(proc_dir,panel,sample_name):\n",
    "    ## Create prcoessed data output directory if not existing yet\n",
    "    if not os.path.isdir(proc_dir):\n",
    "        os.makedirs(proc_dir)\n",
    "        print(f'Created directory: {proc_dir}')\n",
    "    \n",
    "    ## Create output directory for sample if not existing yet\n",
    "    sample_dirname='_'.join([panel.split('_')[-1],sample_name.split('__')[2]])\n",
    "    sample_path=os.path.join(proc_dir,sample_dirname)\n",
    "\n",
    "    if not os.path.isdir(sample_path):\n",
    "        os.makedirs(sample_path)\n",
    "        print(f'Created directory: {sample_path}')\n",
    "    \n",
    "    return sample_path\n",
    "\n",
    "\n",
    "## Setup function for calculating elapsed time\n",
    "def print_elapsed_time(start,stop):\n",
    "    # Calculate the elapsed time in seconds\n",
    "    elapsed_seconds=stop-start\n",
    "    \n",
    "    # Convert elapsed time to hours and minutes\n",
    "    elapsed_minutes, elapsed_seconds = divmod(int(elapsed_seconds), 60)\n",
    "    elapsed_hours, elapsed_minutes = divmod(elapsed_minutes, 60)\n",
    "    \n",
    "    # Print the result in the desired format\n",
    "    return(f\"{elapsed_hours} hours: {elapsed_minutes} minutes: {elapsed_seconds} seconds\")    \n",
    "'''\n",
    "def standardise_transcript_locations(transcripts,metadata):\n",
    "    ## Extract pixel width and height\n",
    "    pixel_width=np.float64(metadata['PhysicalSizeX'])\n",
    "    pixel_height=np.float64(metadata['PhysicalSizeY'])\n",
    "\n",
    "    std_transcripts=transcripts.copy()\n",
    "\n",
    "    for coord_col in ['x_location','y_location','z_location']:\n",
    "        std_transcripts[coord_col]=(std_transcripts[coord_col]-std_transcripts[coord_col].min())/pixel_width\n",
    "    \n",
    "    return std_transcripts\n",
    "'''    \n"
   ]
  },
  {
   "cell_type": "code",
   "execution_count": 3,
   "metadata": {},
   "outputs": [
    {
     "name": "stdout",
     "output_type": "stream",
     "text": [
      "Loading gene CD8A...\n"
     ]
    },
    {
     "ename": "",
     "evalue": "",
     "output_type": "error",
     "traceback": [
      "\u001b[1;31mCanceled future for execute_request message before replies were done"
     ]
    },
    {
     "ename": "",
     "evalue": "",
     "output_type": "error",
     "traceback": [
      "\u001b[1;31mThe Kernel crashed while executing code in the the current cell or a previous cell. Please review the code in the cell(s) to identify a possible cause of the failure. Click <a href='https://aka.ms/vscodeJupyterKernelCrash'>here</a> for more info. View Jupyter <a href='command:jupyter.viewOutput'>log</a> for further details."
     ]
    }
   ],
   "source": [
    "data_dir=\"/Volumes/T7/Plaque_Xenium_data\"\n",
    "data_dir=\"/data/gpfs/projects/punim2121/Atherosclerosis/xenium_data/\"\n",
    "proc_dir='../xenium_data/processed_data/ssam_analysis'\n",
    "\n",
    "## Drop scratch folders that start with \"._\"\n",
    "panel_dir=[f for f in os.listdir(data_dir) if ('Panel' in f and '._' not in f)]\n",
    "panel_dir.sort()\n",
    "\n",
    "start=time.time()\n",
    "for panel in panel_dir[0:1]:\n",
    "    panel_dir=os.path.join(data_dir,panel)\n",
    "    sample_name_list=os.listdir(panel_dir)\n",
    "    sample_name_list.sort()\n",
    "\n",
    "    ## Loop over all samples in a batch\n",
    "    for sample_name in sample_name_list[0:]:\n",
    "        sample_dir=os.path.join(data_dir,panel,sample_name)\n",
    "        #print(sample_name)\n",
    "        if os.path.isdir(sample_dir) and 'P3_D' in sample_dir:\n",
    "            #sample_start=time.time()\n",
    "            #t=print_elapsed_time(start,sample_start)\n",
    "            #print('Time elapsed since beginning:',t)\n",
    "            \n",
    "            ### LOAD TRANSCRIPTS DATA + PREPARE DATA FOR SSAM DATASET CREATION\n",
    "            transcripts,cells=read_transcript_files(data_dir,sample_dir)\n",
    "            genes,coord_list,width,height=calculate_ssam_requirements(transcripts)\n",
    "            ds=ssam.SSAMDataset(genes, coord_list, width, height)\n",
    "\n",
    "\n",
    "            ### RUN KERNEL DENSITY ESTIMATION\n",
    "            kde_tmp_output_dir=create_temp_output_dir(proc_dir,panel,sample_name)        \n",
    "            ## Kde parameters\n",
    "            kde_start=time.time()    \n",
    "            kde_bw=2.5 # => 2.5 ~ 10 um sized cells -> experiment in range of 2-4 \n",
    "            kde_sampling_dist=1 # Sampling distance in micrometers\n",
    "\n",
    "            analysis=ssam.SSAMAnalysis(ds, ncores=-1, verbose=True, save_dir=kde_tmp_output_dir)\n",
    "            analysis.run_fast_kde(bandwidth=kde_bw,sampling_distance=kde_sampling_dist)\n",
    "\n",
    "            kde_stop=time.time()  \n",
    "            t=print_elapsed_time(kde_start,kde_stop)\n",
    "            print('KDE runtime:',t)\n",
    "\n",
    "\n",
    "            ### DOWNSAMPLING VIA FINDING LOCAL MAXIMA FOR FASTER COMPUTATION\n",
    "            ##  Local maxima parameters\n",
    "            local_max_search_size=3 # Size of square used for seacrch. Has to be odd number!\n",
    "            local_max_min_norm=0\n",
    "            local_max_min_expression=0            \n",
    "\n",
    "            analysis.find_localmax(search_size=local_max_search_size, min_norm=local_max_min_norm, min_expression=local_max_min_expression)\n",
    "\n",
    "            #analysis.normalize_vectors()\n",
    "\n",
    "            \n",
    "\n",
    "            ## Load DAPI fluorescent-stained slide image\n",
    "            # Select one slide_type ('mip'/'focus'/z_stack') file to load and \n",
    "            #slide_type='mip'\n",
    "            #img_array,metadata,xml_metadata=read_ome_tiff(slide_type,data_dir,sample_dir)\n",
    "            #print('Slide loaded')\n",
    "\n",
    "\n",
    "            "
   ]
  },
  {
   "cell_type": "code",
   "execution_count": 21,
   "metadata": {},
   "outputs": [
    {
     "data": {
      "text/plain": [
       "(511, 3)"
      ]
     },
     "execution_count": 21,
     "metadata": {},
     "output_type": "execute_result"
    }
   ],
   "source": [
    "coord_list[0].shape"
   ]
  },
  {
   "cell_type": "code",
   "execution_count": 11,
   "metadata": {},
   "outputs": [
    {
     "data": {
      "text/plain": [
       "<matplotlib.image.AxesImage at 0x152a70323e20>"
      ]
     },
     "execution_count": 11,
     "metadata": {},
     "output_type": "execute_result"
    },
    {
     "data": {
      "image/png": "[encoded data removed]",
      "text/plain": [
       "<Figure size 640x480 with 1 Axes>"
      ]
     },
     "metadata": {},
     "output_type": "display_data"
    }
   ],
   "source": [
    "plt.imshow(img_array[0])"
   ]
  },
  {
   "cell_type": "code",
   "execution_count": null,
   "metadata": {},
   "outputs": [],
   "source": []
  }
 ],
 "metadata": {
  "kernelspec": {
   "display_name": "xenium",
   "language": "python",
   "name": "python3"
  },
  "language_info": {
   "codemirror_mode": {
    "name": "ipython",
    "version": 3
   },
   "file_extension": ".py",
   "mimetype": "text/x-python",
   "name": "python",
   "nbconvert_exporter": "python",
   "pygments_lexer": "ipython3",
   "version": "3.10.0"
  },
  "orig_nbformat": 4,
  "vscode": {
   "interpreter": {
    "hash": "9564d71180919d5755e328ddc0f45a9bf525bc6c3c278984a7ee98b475fa878a"
   }
  }
 },
 "nbformat": 4,
 "nbformat_minor": 2
}
