{
 "cells": [
  {
   "cell_type": "code",
   "execution_count": 7,
   "metadata": {},
   "outputs": [
    {
     "name": "stderr",
     "output_type": "stream",
     "text": [
      "INFO:cellpose.io:WRITING LOG OUTPUT TO /home/unimelb.edu.au/gargerd/.cellpose/run.log\n",
      "INFO:cellpose.io:\n",
      "cellpose version: \t2.2.3.dev84+g167f273 \n",
      "platform:       \tlinux \n",
      "python version: \t3.10.0 \n",
      "torch version:  \t1.13.1+cu117\n"
     ]
    }
   ],
   "source": [
    "\n",
    "import tifffile\n",
    "from pyometiff import OMETIFFReader\n",
    "#import squidpy as sq\n",
    "from scipy import ndimage\n",
    "import skimage.io\n",
    "import skimage.measure\n",
    "import skimage.segmentation\n",
    "import numpy as np\n",
    "import argparse\n",
    "import os\n",
    "import torch \n",
    "from cellpose import models,core\n",
    "import logging\n",
    "#models_logger = logging.getLogger(__name__)\n",
    "#logging.basicConfig(level=logging.DEBUG)\n",
    "#logging.getLogger('cellpose').setLevel(logging.DEBUG)\n",
    "from cellpose import io \n",
    "logger = io.logger_setup()\n",
    "from imageio.v2 import imread\n"
   ]
  },
  {
   "cell_type": "code",
   "execution_count": 2,
   "metadata": {},
   "outputs": [
    {
     "name": "stderr",
     "output_type": "stream",
     "text": [
      "INFO:cellpose.core:** TORCH CUDA version installed and working. **\n",
      "INFO:cellpose.core:** TORCH CUDA version installed and working. **\n",
      "INFO:cellpose.core:>>>> using GPU\n",
      "INFO:cellpose.models:>> cyto << model set to be used\n",
      "INFO:cellpose.models:>>>> model diam_mean =  30.000 (ROIs rescaled to this size during training)\n"
     ]
    }
   ],
   "source": [
    "use_GPU = core.use_gpu()\n",
    "model = models.Cellpose(gpu=use_GPU,model_type='cyto')\n"
   ]
  },
  {
   "cell_type": "code",
   "execution_count": 4,
   "metadata": {},
   "outputs": [
    {
     "data": {
      "text/plain": [
       "'/home/unimelb.edu.au/gargerd/Atherosclerosis/atherosclerosis'"
      ]
     },
     "execution_count": 4,
     "metadata": {},
     "output_type": "execute_result"
    }
   ],
   "source": [
    "os.getcwd()"
   ]
  },
  {
   "cell_type": "code",
   "execution_count": 8,
   "metadata": {},
   "outputs": [
    {
     "name": "stderr",
     "output_type": "stream",
     "text": [
      "INFO:cellpose.core:** TORCH CUDA version installed and working. **\n",
      "INFO:cellpose.core:** TORCH CUDA version installed and working. **\n",
      "INFO:cellpose.core:>>>> using GPU\n",
      "INFO:cellpose.models:>> cyto << model set to be used\n"
     ]
    },
    {
     "name": "stdout",
     "output_type": "stream",
     "text": [
      "Input image shape: (480, 640)\n"
     ]
    },
    {
     "name": "stderr",
     "output_type": "stream",
     "text": [
      "INFO:cellpose.models:>>>> model diam_mean =  30.000 (ROIs rescaled to this size during training)\n",
      "INFO:cellpose.models:~~~ FINDING MASKS ~~~\n",
      "INFO:cellpose.models:>>>> TOTAL TIME 0.49 sec\n"
     ]
    }
   ],
   "source": [
    "fn='../xenium_data/20230808__140639__2311-01_Sachs_Panel1/output-XETG00050__0003370__P3_D__20230808__140759/morphology_mip.ome.tif'\n",
    "fn='../at3_1m4_01.tif'\n",
    "#reader=OMETIFFReader(fpath=fn)\n",
    "#img,metadata,xml_metadata=reader.read()\n",
    "img=imread(fn)\n",
    "print('Input image shape:',img.shape)\n",
    "\n",
    "use_GPU = core.use_gpu()\n",
    "model = models.Cellpose(gpu=True,model_type='cyto')\n",
    "hyperparams={\"batch_size\":1,\"channel_axis\":None,\"z_axis\":None,\"invert\":False,\"normalize\":True,\n",
    "            \"diameter\":30.0,\"do_3D\":False,\"anisotropy\":None,\"net_avg\":False,\"augment\":False,\"tile\":True,\n",
    "            \"tile_overlap\":0.1,\"resample\":True,\"interp\":True,\"flow_threshold\":0.0,\"cellprob_threshold\":0.0,\n",
    "            \"min_size\":15,\"stitch_threshold\":0.0,\"rescale\":False,\"progress\":False,\"model_loaded\":False}\n",
    "\n",
    "res, _, _, _ = model.eval(\n",
    "            img,\n",
    "            channels=[0, 0],\n",
    "            **hyperparams)"
   ]
  },
  {
   "cell_type": "code",
   "execution_count": null,
   "metadata": {},
   "outputs": [],
   "source": []
  }
 ],
 "metadata": {
  "kernelspec": {
   "display_name": "Python 3 (ipykernel)",
   "language": "python",
   "name": "python3"
  },
  "language_info": {
   "codemirror_mode": {
    "name": "ipython",
    "version": 3
   },
   "file_extension": ".py",
   "mimetype": "text/x-python",
   "name": "python",
   "nbconvert_exporter": "python",
   "pygments_lexer": "ipython3",
   "version": "3.10.0"
  },
  "vscode": {
   "interpreter": {
    "hash": "9564d71180919d5755e328ddc0f45a9bf525bc6c3c278984a7ee98b475fa878a"
   }
  }
 },
 "nbformat": 4,
 "nbformat_minor": 4
}
