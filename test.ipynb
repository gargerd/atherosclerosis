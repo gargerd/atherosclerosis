{
 "cells": [
  {
   "cell_type": "code",
   "execution_count": 1,
   "metadata": {},
   "outputs": [
    {
     "name": "stdout",
     "output_type": "stream",
     "text": [
      "2023-11-08 08:42:35,894 [INFO] WRITING LOG OUTPUT TO /home/gargerd/.cellpose/run.log\n",
      "2023-11-08 08:42:35,895 [INFO] \n",
      "cellpose version: \t2.2.3.dev84+g167f273 \n",
      "platform:       \tlinux \n",
      "python version: \t3.10.0 \n",
      "torch version:  \t1.13.1\n"
     ]
    }
   ],
   "source": [
    "\n",
    "import tifffile\n",
    "from pyometiff import OMETIFFReader\n",
    "import squidpy as sq\n",
    "from scipy import ndimage\n",
    "import skimage.io\n",
    "import skimage.measure\n",
    "import skimage.segmentation\n",
    "import numpy as np\n",
    "import argparse\n",
    "import os\n",
    "import torch \n",
    "from cellpose import models,core\n",
    "import logging\n",
    "#models_logger = logging.getLogger(__name__)\n",
    "#logging.basicConfig(level=logging.DEBUG)\n",
    "#logging.getLogger('cellpose').setLevel(logging.DEBUG)\n",
    "from cellpose import io \n",
    "logger = io.logger_setup()\n",
    "from imageio.v2 import imread\n"
   ]
  },
  {
   "cell_type": "code",
   "execution_count": 2,
   "metadata": {},
   "outputs": [
    {
     "name": "stdout",
     "output_type": "stream",
     "text": [
      "Input image shape: (34056, 28436)\n",
      "2023-11-08 08:42:49,848 [INFO] ** TORCH CUDA version installed and working. **\n",
      "2023-11-08 08:42:49,849 [INFO] ** TORCH CUDA version installed and working. **\n",
      "2023-11-08 08:42:49,849 [INFO] >>>> using GPU\n",
      "2023-11-08 08:42:49,863 [INFO] >> cyto << model set to be used\n",
      "2023-11-08 08:42:50,395 [INFO] >>>> model diam_mean =  30.000 (ROIs rescaled to this size during training)\n",
      "2023-11-08 08:42:50,397 [INFO] ~~~ FINDING MASKS ~~~\n",
      "2023-11-08 08:50:17,972 [INFO] >>>> TOTAL TIME 447.57 sec\n"
     ]
    }
   ],
   "source": [
    "fn='../xenium_data/20230808__140639__2311-01_Sachs_Panel1/output-XETG00050__0003370__P3_D__20230808__140759/morphology_mip.ome.tif'\n",
    "#reader=OMETIFFReader(fpath=fn)\n",
    "#img,metadata,xml_metadata=reader.read()\n",
    "img=imread(fn)\n",
    "print('Input image shape:',img.shape)\n",
    "\n",
    "use_GPU = core.use_gpu()\n",
    "model = models.Cellpose(gpu=use_GPU,model_type='cyto')\n",
    "hyperparams={\"batch_size\":1,\"channel_axis\":None,\"z_axis\":None,\"invert\":False,\"normalize\":True,\n",
    "            \"diameter\":30.0,\"do_3D\":False,\"anisotropy\":None,\"net_avg\":False,\"augment\":False,\"tile\":True,\n",
    "            \"tile_overlap\":0.1,\"resample\":True,\"interp\":True,\"flow_threshold\":0.0,\"cellprob_threshold\":0.0,\n",
    "            \"min_size\":15,\"stitch_threshold\":0.0,\"rescale\":False,\"progress\":False,\"model_loaded\":False}\n",
    "\n",
    "res, _, _, _ = model.eval(\n",
    "            img,\n",
    "            channels=[0, 0],\n",
    "            **hyperparams)"
   ]
  },
  {
   "cell_type": "code",
   "execution_count": null,
   "metadata": {},
   "outputs": [],
   "source": []
  }
 ],
 "metadata": {
  "kernelspec": {
   "display_name": "xenium",
   "language": "python",
   "name": "python3"
  },
  "language_info": {
   "codemirror_mode": {
    "name": "ipython",
    "version": 3
   },
   "file_extension": ".py",
   "mimetype": "text/x-python",
   "name": "python",
   "nbconvert_exporter": "python",
   "pygments_lexer": "ipython3",
   "version": "3.10.0"
  },
  "orig_nbformat": 4,
  "vscode": {
   "interpreter": {
    "hash": "9564d71180919d5755e328ddc0f45a9bf525bc6c3c278984a7ee98b475fa878a"
   }
  }
 },
 "nbformat": 4,
 "nbformat_minor": 2
}
