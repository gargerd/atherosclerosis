{
 "cells": [
  {
   "cell_type": "code",
   "execution_count": null,
   "metadata": {},
   "outputs": [],
   "source": [
    "import scanpy as sc\n",
    "import pandas as pd\n",
    "from matplotlib import pyplot as plt\n",
    "import os\n",
    "import numpy as np\n",
    "from matplotlib import rcParams\n",
    "import seaborn as sns\n",
    "import anndata as ad\n",
    "#import readxl\n",
    "os.chdir(os.getcwd())"
   ]
  },
  {
   "cell_type": "code",
   "execution_count": null,
   "metadata": {},
   "outputs": [],
   "source": [
    "'''\n",
    "## Directory holding all data\n",
    "base_dir='/Volumes/T7/Plaque_scRNA_data/plaque_aligned_data/'\n",
    "\n",
    "## Read metadata\n",
    "metadata=pd.read_excel('/Volumes/T7/Plaque_scRNA_data/plaque_raw_data/Sample_Names_050823.xlsx',\n",
    "                        sheet_name='metadata',index_col=0) \n",
    "metadata['batch']=metadata['batch'].astype(str)                         \n",
    "'''\n",
    "## Dict for collecting the h5 files\n",
    "anndata_dict={}\n",
    "\n",
    "## Looping over the batch directories and initialising temporary list to collect all anndatas for a given batch\n",
    "for batch in os.listdir('../data/cellbender_output/'):\n",
    "    temp_list=[]\n",
    "    batch_dir=os.path.join(batch,)\n",
    "\n",
    "    ## Loop over all samples in a batch\n",
    "    for sample_dir in os.listdir(batch_dir):\n",
    "        ## Aligned counts are in directories ending with \"_count\""
   ]
  }
 ],
 "metadata": {
  "interpreter": {
   "hash": "6d0aa1c24cc757508bb68172d70c34ad96f036fac81508c653928c064cac593c"
  },
  "kernelspec": {
   "display_name": "Python 3.8.17 ('scanpy')",
   "language": "python",
   "name": "python3"
  },
  "language_info": {
   "name": "python",
   "version": "3.8.17"
  },
  "orig_nbformat": 4
 },
 "nbformat": 4,
 "nbformat_minor": 2
}
