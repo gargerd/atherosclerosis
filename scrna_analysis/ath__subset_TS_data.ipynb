{
 "cells": [
  {
   "cell_type": "code",
   "execution_count": 1,
   "metadata": {
    "execution": {
     "iopub.execute_input": "2024-02-20T13:12:02.556452Z",
     "iopub.status.busy": "2024-02-20T13:12:02.556172Z",
     "iopub.status.idle": "2024-02-20T13:12:04.149018Z",
     "shell.execute_reply": "2024-02-20T13:12:04.148590Z",
     "shell.execute_reply.started": "2024-02-20T13:12:02.556437Z"
    }
   },
   "outputs": [],
   "source": [
    "import scanpy as sc,anndata as ad\n",
    "import pandas as pd\n",
    "from matplotlib import pyplot as plt\n",
    "import os\n",
    "import numpy as np\n",
    "from matplotlib import rcParams\n",
    "import seaborn as sns\n",
    "from anndata import AnnData\n",
    "os.chdir(os.getcwd())"
   ]
  },
  {
   "cell_type": "code",
   "execution_count": 3,
   "metadata": {
    "execution": {
     "iopub.execute_input": "2024-02-20T13:12:12.697751Z",
     "iopub.status.busy": "2024-02-20T13:12:12.697464Z",
     "iopub.status.idle": "2024-02-20T13:12:13.845774Z",
     "shell.execute_reply": "2024-02-20T13:12:13.845358Z",
     "shell.execute_reply.started": "2024-02-20T13:12:12.697737Z"
    }
   },
   "outputs": [],
   "source": [
    "blood=sc.read_h5ad('../../data/TS_Blood.h5ad')"
   ]
  },
  {
   "cell_type": "code",
   "execution_count": 4,
   "metadata": {
    "execution": {
     "iopub.execute_input": "2024-02-20T13:12:15.635263Z",
     "iopub.status.busy": "2024-02-20T13:12:15.634977Z",
     "iopub.status.idle": "2024-02-20T13:12:16.388340Z",
     "shell.execute_reply": "2024-02-20T13:12:16.387932Z",
     "shell.execute_reply.started": "2024-02-20T13:12:15.635248Z"
    }
   },
   "outputs": [],
   "source": [
    "vasc=sc.read_h5ad('../../data/TS_Vasculature.h5ad')"
   ]
  },
  {
   "cell_type": "code",
   "execution_count": 5,
   "metadata": {
    "execution": {
     "iopub.execute_input": "2024-02-20T13:12:18.547062Z",
     "iopub.status.busy": "2024-02-20T13:12:18.546766Z",
     "iopub.status.idle": "2024-02-20T13:12:19.587938Z",
     "shell.execute_reply": "2024-02-20T13:12:19.587535Z",
     "shell.execute_reply.started": "2024-02-20T13:12:18.547047Z"
    }
   },
   "outputs": [],
   "source": [
    "adata_ts=ad.concat([blood,vasc],merge='same')"
   ]
  },
  {
   "cell_type": "code",
   "execution_count": null,
   "metadata": {
    "execution": {
     "iopub.execute_input": "2024-02-20T13:12:29.857900Z",
     "iopub.status.busy": "2024-02-20T13:12:29.857621Z"
    }
   },
   "outputs": [],
   "source": [
    "adata_ts.write_h5ad('../../data/ts_blood_vasc.h5ad',compression='gzip')"
   ]
  },
  {
   "cell_type": "code",
   "execution_count": null,
   "metadata": {},
   "outputs": [],
   "source": []
  }
 ],
 "metadata": {
  "interpreter": {
   "hash": "6d0aa1c24cc757508bb68172d70c34ad96f036fac81508c653928c064cac593c"
  },
  "kernelspec": {
   "display_name": "Python 3 (ipykernel)",
   "language": "python",
   "name": "python3"
  },
  "language_info": {
   "codemirror_mode": {
    "name": "ipython",
    "version": 3
   },
   "file_extension": ".py",
   "mimetype": "text/x-python",
   "name": "python",
   "nbconvert_exporter": "python",
   "pygments_lexer": "ipython3",
   "version": "3.9.17"
  }
 },
 "nbformat": 4,
 "nbformat_minor": 4
}
