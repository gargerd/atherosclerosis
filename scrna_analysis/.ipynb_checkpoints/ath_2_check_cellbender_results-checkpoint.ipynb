{
 "cells": [
  {
   "cell_type": "code",
   "execution_count": null,
   "metadata": {
    "tags": []
   },
   "outputs": [],
   "source": [
    "import scanpy as sc\n",
    "import pandas as pd\n",
    "from matplotlib import pyplot as plt\n",
    "import os\n",
    "import numpy as np\n",
    "from matplotlib import rcParams\n",
    "import seaborn as sns\n",
    "import anndata as ad\n",
    "\n",
    "# import function\n",
    "from cellbender.remove_background.downstream import anndata_from_h5\n",
    "from cellbender.remove_background.downstream import load_anndata_from_input_and_output\n",
    "\n",
    "os.chdir(os.getcwd())"
   ]
  },
  {
   "cell_type": "markdown",
   "metadata": {},
   "source": [
    "## Add metadata to cellbender results: \n",
    "* each batch into separate anndata \n",
    "* Add metadata from batchx_raw.h5ad -> save \n",
    "* save them into a dictionary "
   ]
  },
  {
   "cell_type": "code",
   "execution_count": null,
   "metadata": {
    "tags": []
   },
   "outputs": [],
   "source": [
    "base_dir='/data/gpfs/projects/punim2121/Atherosclerosis/aligned_data'\n",
    "\n",
    "anndata_dict={}\n",
    "for ref_genome in os.listdir(base_dir):\n",
    "    if not ref_genome.startswith('.'):\n",
    "        anndata_dict[ref_genome]={}\n",
    "\n",
    "        ## Loop over batches and open cellbender output + batchx_raw.h5ad\n",
    "        for batch in os.listdir('../../data/cellbender_output/'+ref_genome):\n",
    "            if not batch.startswith('.'):\n",
    "                input_file=os.path.join('../../data','_'.join([ref_genome,batch,'raw.h5ad']))\n",
    "                output_file=os.path.join('../../data/cellbender_output/',ref_genome,batch,batch+'_cb.h5')\n",
    "                                            \n",
    "                adata_batch=load_anndata_from_input_and_output(\n",
    "                            input_file=input_file,\n",
    "                            output_file=output_file,\n",
    "                            input_layer_key='raw',  # this will be the raw data layer\n",
    "                            retain_input_metadata=True,\n",
    "                            analyzed_barcodes_only=True)\n",
    "                \n",
    "                ## Read raw data and add its metadata to the cellbender output anndata files\n",
    "                adata_batch_raw=sc.read_h5ad(input_file)\n",
    "                meta_colnames=['patient','condition','batch','ribo_frac','mt_frac']\n",
    "                adata_batch.obs[meta_colnames]=adata_batch_raw.obs.loc[adata_batch.obs.index,meta_colnames]\n",
    "                \n",
    "                ## Save the metadata updated cellbender output files\n",
    "                adata_batch.write_h5ad(os.path.join('../../data','_'.join([ref_genome,batch,'cellbender_corrected.h5ad'])))\n",
    "                \n",
    "                ## Calculate basic variables for the obs layer\n",
    "                adata_batch.obs['n_counts_raw']=adata_batch.layers['raw'].sum(axis=1).A1\n",
    "                #adata_batch.obs['n_genes']=(adata_batch.layers['raw']>0).sum(axis=1).A1\n",
    "  \n",
    "\n",
    "                anndata_dict[ref_genome][batch]=adata_batch\n",
    "            "
   ]
  },
  {
   "cell_type": "code",
   "execution_count": null,
   "metadata": {},
   "outputs": [],
   "source": [
    "adata_batch.var['counts_removed_cellbender']"
   ]
  },
  {
   "cell_type": "markdown",
   "metadata": {},
   "source": [
    "## Check number of counts removed from genes"
   ]
  },
  {
   "cell_type": "code",
   "execution_count": null,
   "metadata": {
    "tags": []
   },
   "outputs": [],
   "source": [
    "import math\n",
    "\n",
    "for ref_genome in [*anndata_dict][:]:\n",
    "    \n",
    "    ncols=2\n",
    "    nrows=math.ceil(len([*anndata_dict[ref_genome]])/ncols)\n",
    "    fig=plt.figure(figsize=(ncols*9,nrows*5))\n",
    "    fig2=plt.figure(figsize=(ncols*9,nrows*5))\n",
    "    fig.suptitle(ref_genome,fontweight='bold',fontsize=16,y=1)\n",
    "    fig2.suptitle(ref_genome,fontweight='bold',fontsize=16,y=1)\n",
    "\n",
    "    for n,batch in enumerate(sorted([*anndata_dict[ref_genome]])):\n",
    "        ax=fig.add_subplot(nrows,ncols,n+1)\n",
    "        ax2=fig2.add_subplot(nrows,ncols,n+1)\n",
    "        adata_batch=anndata_dict[ref_genome][batch]\n",
    "        \n",
    "        ## Get total counts for each gene for raw and cellbender corrected counts\n",
    "        raw_counts=adata_batch.layers['raw'].sum(axis=0).A1\n",
    "        cb_counts=adata_batch.layers['cellbender'].sum(axis=0).A1\n",
    "        \n",
    "        ## Init col for removed counts\n",
    "        adata_batch.var['counts_removed_cellbender']=0\n",
    "        \n",
    "        ## Set filter which filters for genes that were corrected by cellbender\n",
    "        filt=raw_counts!=cb_counts\n",
    "\n",
    "        ## Calculate absolut removed counts + ratio of removed_count compared to raw count number\n",
    "        adata_batch.var.loc[filt,'counts_removed_cellbender']=raw_counts[filt]-cb_counts[filt]\n",
    "        adata_batch.var.loc[filt,'ratio_of_counts_removed_cellbender']=(raw_counts[filt]-cb_counts[filt])/raw_counts[filt]\n",
    "\n",
    "        plot_df_ratio_sorted=adata_batch.var.loc[(filt)&(raw_counts>100),\\\n",
    "                                ['counts_removed_cellbender','ratio_of_counts_removed_cellbender']].sort_values(by='ratio_of_counts_removed_cellbender',ascending=False)\n",
    "\n",
    "        plot_df_count_sorted=adata_batch.var.loc[(filt)&(raw_counts>100),\\\n",
    "                                ['counts_removed_cellbender','ratio_of_counts_removed_cellbender']].sort_values(by='counts_removed_cellbender',ascending=False) \n",
    "\n",
    "        sns.barplot(data=plot_df_ratio_sorted.loc[plot_df_ratio_sorted.index[0:10],'counts_removed_cellbender'],ax=ax)\n",
    "        sns.barplot(data=plot_df_count_sorted.loc[plot_df_count_sorted.index[0:10],'counts_removed_cellbender'],ax=ax2)\n",
    "        #sns.histplot(plot_df.loc[plot_df.index[0:],'ratio_of_counts_removed_cellbender'])\n",
    "        ax.set_title(batch)\n",
    "        ax2.set_title(batch)\n",
    "        \n",
    "    fig.tight_layout()    \n"
   ]
  },
  {
   "cell_type": "markdown",
   "metadata": {},
   "source": [
    "## Plot Barcode rank - UMI plots (__both raw and cellbender corrected counts__)  for each batch"
   ]
  },
  {
   "cell_type": "code",
   "execution_count": null,
   "metadata": {
    "tags": []
   },
   "outputs": [],
   "source": [
    "for ref_genome in [*anndata_dict][:]:\n",
    "    for batch in sorted([*anndata_dict[ref_genome]]):\n",
    "        adata_batch=anndata_dict[ref_genome][batch]\n",
    "        \n",
    "        for n_count in ['n_raw','n_cellbender']:\n",
    "        \n",
    "            plot_df=adata_batch.obs[['cell_probability','cell_size','droplet_efficiency','n_raw', 'n_cellbender']].copy()\n",
    "            plot_df=plot_df.sort_values(by=n_count,ascending=False)\n",
    "            plot_df['id']=np.arange(1,len(adata_batch.obs)+1)\n",
    "\n",
    "            batch_plot_df=plot_df.copy()\n",
    "            print('batch',batch,'min n_count',plot_df[n_count].min())\n",
    "            batch_plot_df['id']=np.arange(1,len(batch_plot_df)+1)\n",
    "            batch_plot_df['log_id']=np.log10(batch_plot_df['id'])\n",
    "            batch_plot_df['log_n_counts']=np.log10(batch_plot_df[n_count]+1)\n",
    "            batch_plot_df['droplet']=pd.cut(x=batch_plot_df['cell_probability'],bins=[0,0.5,1],labels=['empty','cell'])\n",
    "\n",
    "            p=sns.jointplot(data=batch_plot_df,x='log_id',y='log_n_counts',hue='droplet',height=8,kind='scatter',s=10,\n",
    "                            ylim=(0,batch_plot_df['log_n_counts'].max()),\n",
    "                            xlim=(batch_plot_df['log_id'].min(),batch_plot_df['log_id'].max()))\n",
    "            # Create a second y-axis on the right side\n",
    "            ax2=p.ax_joint.twinx()\n",
    "            # Customize the second y-axis\n",
    "            ax2.set_ylabel(\"Cell probability\")\n",
    "            ax2.axhline(batch_plot_df.loc[batch_plot_df['droplet']=='empty','cell_probability'].max(),color='red')\n",
    "\n",
    "            p.fig.suptitle(ref_genome + '-'+str(batch)+' '+n_count.split('_')[1]+' cell counts',fontsize=25,fontweight='bold')\n",
    "            # Access the matplotlib axes\n",
    "            ax=p.ax_joint\n",
    "            ax.set_ylabel('Log number of counts',fontsize=15,fontweight='bold')\n",
    "            ax.set_xlabel('Log Barcode id',fontsize=15,fontweight='bold')\n"
   ]
  },
  {
   "cell_type": "markdown",
   "metadata": {},
   "source": [
    "## Lognormalize data and save them into a dictionary"
   ]
  },
  {
   "cell_type": "code",
   "execution_count": null,
   "metadata": {
    "tags": []
   },
   "outputs": [],
   "source": [
    "anndata_dict_norm={}\n",
    "\n",
    "for ref_genome in [*anndata_dict][:]:\n",
    "    anndata_dict_norm[ref_genome]={}\n",
    "\n",
    "    for batch in sorted([*anndata_dict[ref_genome]]):\n",
    "        adata_batch=anndata_dict[ref_genome][batch]\n",
    "        adata_pp=adata_batch.copy()\n",
    "        \n",
    "        sc.pp.normalize_total(adata_pp, layer='raw',target_sum=1e4, exclude_highly_expressed=True)\n",
    "        sc.pp.log1p(adata_pp)\n",
    "\n",
    "        adata_pp.obs['n_counts_raw_norm']=adata_pp.X.sum(axis=1).A1\n",
    "        adata_pp.obs['log_n_counts_raw_norm']=np.log10(adata_pp.obs['n_counts_raw_norm']+1)\n",
    "        adata_pp.obs['droplet']=pd.cut(x=adata_pp.obs['cell_probability'],bins=[0,0.5,1],labels=['empty','cell'])\n",
    "        \n",
    "        sc.pp.neighbors(adata_pp, n_neighbors=15, n_pcs=15, metric='euclidean')\n",
    "        sc.tl.umap(adata_pp)\n",
    "        anndata_dict_norm[ref_genome][batch]=adata_pp\n",
    "    "
   ]
  },
  {
   "cell_type": "markdown",
   "metadata": {},
   "source": [
    "##  Plot UMAPs: Erythtocyte markers, droplet identity, cell counts"
   ]
  },
  {
   "cell_type": "code",
   "execution_count": null,
   "metadata": {
    "tags": []
   },
   "outputs": [],
   "source": [
    "import math\n",
    "import warnings\n",
    "warnings.simplefilter(action='ignore', category=FutureWarning)\n",
    "\n",
    "ery_genes=['log_n_counts_raw_norm','droplet','HBB','HBA1','HBA2']\n",
    "rcParams['figure.figsize']=(6,4.5)\n",
    "ncols=2\n",
    "nrows=math.ceil(len(ery_genes)/ncols)\n",
    "\n",
    "for ref_genome in [*anndata_dict_norm][:]:\n",
    "    for batch in sorted([*anndata_dict_norm[ref_genome]][:]):\n",
    "        adata_pp=anndata_dict_norm[ref_genome][batch]\n",
    "        adata_pp.obs['droplet']=pd.cut(x=adata_pp.obs['cell_probability'],bins=[0,0.5,1],labels=['empty','cell'])\n",
    "        fig=plt.figure(figsize=(ncols*6,nrows*5))\n",
    "        fig.suptitle('-'.join([ref_genome,batch]))\n",
    "\n",
    "        for n,col in enumerate(ery_genes):\n",
    "            ax=fig.add_subplot(nrows,ncols,n+1)\n",
    "            sc.pl.umap(adata_pp, color=col,show=False,size=15,ncols=2,neighbors_key='X_umap',ax=ax)  \n",
    "            n=n+1\n"
   ]
  },
  {
   "cell_type": "code",
   "execution_count": null,
   "metadata": {},
   "outputs": [],
   "source": []
  }
 ],
 "metadata": {
  "interpreter": {
   "hash": "6d0aa1c24cc757508bb68172d70c34ad96f036fac81508c653928c064cac593c"
  },
  "kernelspec": {
   "display_name": "Python 3 (ipykernel)",
   "language": "python",
   "name": "python3"
  },
  "language_info": {
   "codemirror_mode": {
    "name": "ipython",
    "version": 3
   },
   "file_extension": ".py",
   "mimetype": "text/x-python",
   "name": "python",
   "nbconvert_exporter": "python",
   "pygments_lexer": "ipython3",
   "version": "3.9.18"
  }
 },
 "nbformat": 4,
 "nbformat_minor": 4
}
